{
 "cells": [
  {
   "cell_type": "code",
   "execution_count": 100,
   "id": "b41f80fa-7e4d-4182-a81d-8b5fa9216327",
   "metadata": {},
   "outputs": [],
   "source": [
    "import requests\n",
    "import pandas as pd\n",
    "import numpy as np\n",
    "from bs4 import BeautifulSoup\n",
    "from datetime import datetime\n",
    "import sqlite3"
   ]
  },
  {
   "cell_type": "code",
   "execution_count": 60,
   "id": "93ea7b13-c995-40d7-acb5-2ba9ea065eab",
   "metadata": {},
   "outputs": [],
   "source": [
    "def extract(url, tablecontent):\n",
    "    page = requests.get(url).text\n",
    "    Data = BeautifulSoup(page, 'html.parser')\n",
    "    Tables = Data.find_all('table')\n",
    "    rows = Tables[0].find_all('tr')\n",
    "    df = pd.DataFrame(columns = tablecontent)\n",
    "\n",
    "    for row in rows:\n",
    "        cols = row.find_all('td')\n",
    "        if len(cols)!=0:\n",
    "            if cols[1].find('a') is not None:\n",
    "                data_dict = {'Bank Name': cols[1].find_all('a')[1].contents[0],\n",
    "                             'MC_USD_Billion': cols[2].contents[0]}\n",
    "                df1 = pd.DataFrame(data_dict, index=[0])\n",
    "                df = pd.concat([df1,df], ignore_index= True)\n",
    "    return df    "
   ]
  },
  {
   "cell_type": "code",
   "execution_count": 85,
   "id": "a0fbe3dc-30bb-4c92-ac53-e907a5bd5458",
   "metadata": {},
   "outputs": [],
   "source": [
    "def transform(df):\n",
    "    mc_list = df['MC_USD_Billion'].tolist()\n",
    "    mc_list = [float(\"\".join(x.split('\\\\'))) for x in mc_list]\n",
    "    df['MC_USD_Billion'] = mc_list\n",
    "    df['MC_GBP_Billion'] = round((df['MC_USD_Billion'] / 0.93),2)\n",
    "    df['MC_EUR_Billion'] = round((df['MC_USD_Billion'] / 0.8),2)\n",
    "    df['MC_INR_Billion'] = round((df['MC_USD_Billion'] / 82.95),2)\n",
    "    return df"
   ]
  },
  {
   "cell_type": "code",
   "execution_count": 98,
   "id": "ebf37e52-fca3-4e28-808d-ce671e7793cf",
   "metadata": {},
   "outputs": [],
   "source": [
    "def load_to_csv(df, csv_path):\n",
    "    df.to_csv(csv_path)"
   ]
  },
  {
   "cell_type": "code",
   "execution_count": 91,
   "id": "5efe18d2-0df6-446b-b8f6-a76a5457b358",
   "metadata": {},
   "outputs": [],
   "source": [
    "def load_to_db(df, sql_connection, table_name):\n",
    "    df.to_sql(table_name, sql_connection, if_exists='replace', index=False)"
   ]
  },
  {
   "cell_type": "code",
   "execution_count": 92,
   "id": "80589173-5d92-44bf-b028-4c3b561ed844",
   "metadata": {},
   "outputs": [],
   "source": [
    "def run_query(query_statement, sql_connection):\n",
    "    print(query_statement)\n",
    "    query_output = pd.read_sql(query_statement, sql_connection)\n",
    "    print(query_output)"
   ]
  },
  {
   "cell_type": "code",
   "execution_count": 93,
   "id": "5e01f13c-2ec7-4457-8c8e-82a93c0f16de",
   "metadata": {},
   "outputs": [],
   "source": [
    "def log_progress(message): \n",
    "    timestamp_format = '%Y-%h-%d-%H:%M:%S' # Year-Monthname-Day-Hour-Minute-Second \n",
    "    now = datetime.now() # get current timestamp \n",
    "    timestamp = now.strftime(timestamp_format) \n",
    "    with open(\"code_log.txt\",\"a\") as f: \n",
    "        f.write(timestamp + ' : ' + message + '\\n')"
   ]
  },
  {
   "cell_type": "code",
   "execution_count": 110,
   "id": "0827047d-c5e8-494b-abe5-705a6279db0f",
   "metadata": {},
   "outputs": [],
   "source": [
    "url = 'https://web.archive.org/web/20230908091635%20/https://en.wikipedia.org/wiki/List_of_largest_banks'\n",
    "tablecontent = ['Bank Name', 'MC_USD_Billion']\n",
    "csv_path = 'Largest Banks Data.csv'\n",
    "table_name = 'Largest_Banks'"
   ]
  },
  {
   "cell_type": "code",
   "execution_count": 111,
   "id": "25516c2f-13cf-4545-b246-0964353fb870",
   "metadata": {},
   "outputs": [
    {
     "name": "stdout",
     "output_type": "stream",
     "text": [
      "SELECT *from Largest_Banks\n",
      "                                 Bank Name  MC_USD_Billion  MC_GBP_Billion  \\\n",
      "0                            Bank of China          136.81          147.11   \n",
      "1                  China Construction Bank          139.82          150.34   \n",
      "2                           Morgan Stanley          140.83          151.43   \n",
      "3                        HSBC Holdings PLC          148.90          160.11   \n",
      "4                              Wells Fargo          155.87          167.60   \n",
      "5                                HDFC Bank          157.91          169.80   \n",
      "6               Agricultural Bank of China          160.68          172.77   \n",
      "7  Industrial and Commercial Bank of China          194.56          209.20   \n",
      "8                          Bank of America          231.52          248.95   \n",
      "9                           JPMorgan Chase          432.92          465.51   \n",
      "\n",
      "   MC_EUR_Billion  MC_INR_Billion  \n",
      "0          171.01            1.65  \n",
      "1          174.77            1.69  \n",
      "2          176.04            1.70  \n",
      "3          186.12            1.80  \n",
      "4          194.84            1.88  \n",
      "5          197.39            1.90  \n",
      "6          200.85            1.94  \n",
      "7          243.20            2.35  \n",
      "8          289.40            2.79  \n",
      "9          541.15            5.22  \n"
     ]
    }
   ],
   "source": [
    "log_progress('Preliminaries complete. Initiating ETL process')\n",
    "df = extract(url, tablecontent)\n",
    "log_progress('Data extraction complete. Initiating Transformation process')\n",
    "df = transform(df)\n",
    "log_progress('Data transformation complete. Initiating loading process')\n",
    "load_to_csv(df, csv_path)\n",
    "log_progress('Data saved to CSV file')\n",
    "sql_connection = sqlite3.connect('Banks.db')\n",
    "log_progress('SQL Connection initiated.')\n",
    "load_to_db(df, sql_connection, table_name)\n",
    "log_progress('Data loaded to Database as table. Running the query')\n",
    "query_statement = f\"SELECT * from {table_name}\"\n",
    "run_query(query_statement, sql_connection)\n",
    "log_progress('Process Complete.')\n",
    "sql_connection.close()"
   ]
  },
  {
   "cell_type": "code",
   "execution_count": null,
   "id": "5729e784-f664-44d1-a494-0faeaac481ba",
   "metadata": {},
   "outputs": [],
   "source": []
  }
 ],
 "metadata": {
  "kernelspec": {
   "display_name": "Python 3 (ipykernel)",
   "language": "python",
   "name": "python3"
  },
  "language_info": {
   "codemirror_mode": {
    "name": "ipython",
    "version": 3
   },
   "file_extension": ".py",
   "mimetype": "text/x-python",
   "name": "python",
   "nbconvert_exporter": "python",
   "pygments_lexer": "ipython3",
   "version": "3.11.9"
  }
 },
 "nbformat": 4,
 "nbformat_minor": 5
}
